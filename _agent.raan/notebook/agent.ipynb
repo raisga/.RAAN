{
 "cells": [
  {
   "cell_type": "markdown",
   "id": "8a2fa251",
   "metadata": {},
   "source": [
    "<h1 data-tag=\"nbTitle\">AI Agent</h1>\n",
    "\n",
    "<ul>\n",
    "  <li><b>Author: </b><span data-tag=\"nbAuthor\">John Doe</span></li>\n",
    "  <li><b>Year: </b><span data-tag=\"nbDateYear\">2025</span></li>\n",
    "</ul>\n",
    "\n",
    "<blockquote data-tag=\"nbDescription\">\n",
    "    This notebook demonstrates how to create an AI agent that can interact with users, answer questions, and perform tasks based on natural language input. The agent uses advanced natural language processing techniques to understand user queries and provide relevant responses.\n",
    "</blockquote>"
   ]
  },
  {
   "cell_type": "markdown",
   "id": "64bb5390",
   "metadata": {},
   "source": [
    "## Environment Setup and Dependencies Installation\n",
    "\n",
    "In this section, we'll ensure your environment is ready to build <span data-tag='agentName'>AI Agent</span>. We'll install the required Python packages and verify your Python and Jupyter versions.\n",
    "\n",
    "**Requirements:**\n",
    "\n",
    "<ul>\n",
    "    <li>Python 3.10 or higher</li>\n",
    "    <li>Jupyter Notebook</li>\n",
    "    <li>Required Python packages: <span data-tag='pyRequirements'>numpy, pandas, scikit-learn, transformers</span></li>\n",
    "</ul>\n",
    "\n",
    "Let's install the required Python packages and check your environment."
   ]
  },
  {
   "cell_type": "code",
   "execution_count": null,
   "id": "9ba93349",
   "metadata": {},
   "outputs": [],
   "source": [
    "from utils.setup_environment import setup_environment\n",
    "\n",
    "setup_environment()"
   ]
  },
  {
   "cell_type": "markdown",
   "id": "cdf45bd9",
   "metadata": {},
   "source": [
    "## Initializing Ollama Chat with LLM (in Notebook)\n",
    "\n",
    "Now, let's connect to your local (or remote) Ollama LLM instance. We'll send a simple prompt and display the response.\n",
    "\n",
    "**Instructions:**\n",
    "\n",
    "- Make sure the Ollama server is running locally (`ollama serve`) or update the API URL if remote.\n",
    "- We'll use the `requests` library to interact with the Ollama API.\n",
    "\n",
    "**References:**\n",
    "\n",
    "- [Ollama API Docs](https://github.com/ollama/ollama/blob/main/docs/api.md)"
   ]
  },
  {
   "cell_type": "code",
   "execution_count": null,
   "id": "d7c8e13b",
   "metadata": {},
   "outputs": [],
   "source": [
    "from utils.ollama_chat import ollama_chat\n",
    "from config import SYSTEM_PROMPT, MODEL, OLLAMA_API_URL\n",
    "\n",
    "response = ollama_chat(prompt=SYSTEM_PROMPT, model=MODEL, url=OLLAMA_API_URL)\n",
    "print(response)"
   ]
  },
  {
   "cell_type": "markdown",
   "id": "f7c205c1",
   "metadata": {},
   "source": [
    "## Integrating pandas for Data Workflows\n",
    "\n",
    "We'll now use `pandas` to load and preprocess a knowledge base (CSV or DataFrame). This data can be used to provide context to the agent.\n",
    "\n",
    "**Steps:**\n",
    "\n",
    "- Load a CSV file or create a DataFrame with sample knowledge.\n",
    "- Preprocess text (e.g., lowercasing, removing punctuation).\n",
    "- Prepare the data for use as context in LLM prompts."
   ]
  },
  {
   "cell_type": "code",
   "execution_count": null,
   "id": "e51744d1",
   "metadata": {},
   "outputs": [],
   "source": [
    "from utils.generate_knowledge_base import generate_knowledge_base\n",
    "from config import SAMPLE_DATA\n",
    "\n",
    "kb = generate_knowledge_base(data=SAMPLE_DATA)\n",
    "print(kb)"
   ]
  },
  {
   "cell_type": "markdown",
   "id": "94ec5a34",
   "metadata": {},
   "source": [
    "<h2>\n",
    "    Design Overview of \n",
    "    <span data-tag=\"agentName\">AI Agent</span>\n",
    "</h2>\n",
    "\n",
    "<p data-tag=\"agentDescription\">\n",
    "    This section outlines the design and architecture of the <span tag='agentName'>AI Agent</span>. It includes the components, data flow, and interaction patterns that define how the agent operates.\n",
    "</p>"
   ]
  },
  {
   "cell_type": "markdown",
   "id": "6b228128",
   "metadata": {},
   "source": [
    "<h3>\n",
    "    <span data-tag=\"agentName\">AI Agent</span>\n",
    "    Flowchart\n",
    "</h3>\n",
    "\n",
    "Below is a flowchart that illustrates the main components and data flow of the <span tag='agentName'>AI Agent</span>:"
   ]
  },
  {
   "cell_type": "code",
   "execution_count": null,
   "id": "c8577816",
   "metadata": {},
   "outputs": [],
   "source": [
    "from utils.mermaid import display_mm_diagram\n",
    "from config import MERMAID_DIAGRAM\n",
    "\n",
    "display_mm_diagram(graph=MERMAID_DIAGRAM)"
   ]
  },
  {
   "cell_type": "markdown",
   "id": "492174ab",
   "metadata": {},
   "source": [
    "<h2>\n",
    "    Integrating Tools for \n",
    "    <span data-tag=\"agentName\">AI Agent</span>\n",
    "</h2>\n",
    "\n",
    "\n",
    "We'll implement the tools that <span data-tag=\"agentName\"></span> can use to perform tasks. \n",
    "For this example, we'll use langchain's `Tool` class to create a simple tool that can query the knowledge base."
   ]
  },
  {
   "cell_type": "code",
   "execution_count": null,
   "id": "6ea21433",
   "metadata": {},
   "outputs": [],
   "source": [
    "from langchain_core.tools import Tool\n",
    "from tools import search\n",
    "\n",
    "search_tool = Tool(\n",
    "    name=\"search_tool\",\n",
    "    func=search,\n",
    "    description=\"A tool to search for information based on a query.\"\n",
    ")\n",
    "\n",
    "agentic_tools = [search_tool] # Extend with more tools as needed\n",
    "\n",
    "print(\"Agent Tools Initialized:\")\n",
    "for tool in agentic_tools:\n",
    "    print(f\"- {tool.name}: {tool.description}\")"
   ]
  },
  {
   "cell_type": "markdown",
   "id": "82ef6147",
   "metadata": {},
   "source": [
    "<h2>\n",
    "    <span data-tag=\"agentName\">AI Agent</span>\n",
    "    Knowledege Base\n",
    "</h2>\n",
    "\n",
    "By displaying the knowledge base, we can provide context to the agent. This can be useful for answering questions or providing relevant information when the agent is asked about specific topics."
   ]
  },
  {
   "cell_type": "code",
   "execution_count": null,
   "id": "d1154340",
   "metadata": {},
   "outputs": [],
   "source": [
    "from rich.console import Console\n",
    "from utils.format_knowledge_base import format_knowledge_base\n",
    "\n",
    "console = Console()\n",
    "\n",
    "table = format_knowledge_base(kb)\n",
    "console.print(table)"
   ]
  },
  {
   "cell_type": "markdown",
   "id": "b0369308",
   "metadata": {},
   "source": [
    "<h2>\n",
    "    Interacting with\n",
    "    <span data-tag=\"agentName\">AI Agent</span>\n",
    "</h2>\n",
    "\n",
    "Let's create a simple command-line interface (CLI) for our agent using `rich`. We'll use a command loop to interact with the agent, and `rich.Console` to print stylized prompts, responses, and tables. Let's launch an interactive session! This cell combines everything:\n",
    "\n",
    "**Instructions:**\n",
    "\n",
    "- Type a question. If it's in the knowledge base, you'll get an instant answer.\n",
    "- Otherwise, the agent will ask Ollama.\n",
    "- Type `exit` or `quit` to end the session.\n",
    "\n",
    "*This CLI will run in the notebook output cell, but you can adapt it for a terminal script as well.*\n",
    "\n",
    "<span id=\"cli-agent\"></span>"
   ]
  },
  {
   "cell_type": "code",
   "execution_count": null,
   "id": "bb88ae23",
   "metadata": {},
   "outputs": [],
   "source": [
    "# %NOTE%: DO NOT EDIT OR ADD ANY SECTION AFTER THIS CELL. THIS SHOULD BE THE LAST CELL IN THE NOTEBOOK.\n",
    "\n",
    "from utils.agent_cli import agent_cli\n",
    "\n",
    "def run_agent_cli():\n",
    "    console.print(\"\\n[bold green]Starting the agent CLI...[/bold green]\")\n",
    "    \n",
    "    try:\n",
    "        agent_cli(console=console, kb=kb)\n",
    "    except KeyboardInterrupt:\n",
    "        console.print(\"\\n[bold yellow]Agent interrupted. Goodbye![/bold yellow]\")\n",
    "    except Exception as e:\n",
    "        console.print(f\"\\n[bold red]Unexpected error: {e}[/bold red]\")\n",
    "\n",
    "if __name__ == '__main__':\n",
    "    run_agent_cli()"
   ]
  }
 ],
 "metadata": {
  "kernelspec": {
   "display_name": "Python 3 (ipykernel)",
   "language": "python",
   "name": "python3"
  },
  "language_info": {
   "codemirror_mode": {
    "name": "ipython",
    "version": 3
   },
   "file_extension": ".py",
   "mimetype": "text/x-python",
   "name": "python",
   "nbconvert_exporter": "python",
   "pygments_lexer": "ipython3",
   "version": "3.10.15"
  }
 },
 "nbformat": 4,
 "nbformat_minor": 5
}
